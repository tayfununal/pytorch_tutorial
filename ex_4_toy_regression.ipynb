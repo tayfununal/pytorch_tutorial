{
 "cells": [
  {
   "cell_type": "code",
   "execution_count": 321,
   "metadata": {},
   "outputs": [],
   "source": [
    "import numpy as np\n",
    "import matplotlib.pyplot as plt\n",
    "import torch"
   ]
  },
  {
   "attachments": {},
   "cell_type": "markdown",
   "metadata": {},
   "source": [
    "Predictin tempretures:\n",
    "\\begin{align} \n",
    "    t_c &: celsius \\\\\n",
    "    t_u &: unknown units\n",
    "\\end{align}"
   ]
  },
  {
   "cell_type": "code",
   "execution_count": 322,
   "metadata": {},
   "outputs": [],
   "source": [
    "# Data\n",
    "t_c = [0.5, 14.0, 15.0, 28.0, 11.0, 8.0, 3.0, -4.0, 6.0, 13.0, 21.0]\n",
    "t_u = [35.7, 55.9, 58.2, 81.9, 56.3, 48.9, 33.9, 21.8, 48.4, 60.4, 68.4]"
   ]
  },
  {
   "cell_type": "code",
   "execution_count": 323,
   "metadata": {},
   "outputs": [],
   "source": [
    "t_c = torch.tensor(t_c)\n",
    "t_u = torch.tensor(t_u)"
   ]
  },
  {
   "cell_type": "code",
   "execution_count": 324,
   "metadata": {},
   "outputs": [],
   "source": [
    "def model(t_u, w, b):\n",
    "    return w * t_u + b\n",
    "\n",
    "def loss_f(t_p, t_c):\n",
    "    squared_difference = (t_p - t_c)**2\n",
    "    return squared_difference.mean()\n",
    "\n",
    "def gradient(alpha, t_p, t_c, t_u, w, b):\n",
    "    dw = 2 * ((t_p - t_c) * t_u).mean()\n",
    "    db = 2 * (t_p - t_c).mean()\n",
    "    \n",
    "    w = w - alpha * dw\n",
    "    b = b - alpha * db\n",
    "    return w, b\n"
   ]
  },
  {
   "cell_type": "code",
   "execution_count": 325,
   "metadata": {},
   "outputs": [],
   "source": [
    "w = torch.ones(())\n",
    "b = torch.zeros(())"
   ]
  },
  {
   "cell_type": "code",
   "execution_count": 326,
   "metadata": {},
   "outputs": [
    {
     "name": "stdout",
     "output_type": "stream",
     "text": [
      "Epoch 0 80.36434173583984\n",
      "Epoch 100 22.083463668823242\n",
      "Epoch 200 16.56162452697754\n",
      "Epoch 300 12.631514549255371\n",
      "Epoch 400 9.834280014038086\n",
      "Epoch 500 7.843372821807861\n",
      "Epoch 600 6.426368236541748\n",
      "Epoch 700 5.4178266525268555\n",
      "Epoch 800 4.700008869171143\n",
      "Epoch 900 4.189108371734619\n",
      "Epoch 1000 3.8254828453063965\n",
      "Epoch 1100 3.5666725635528564\n",
      "Epoch 1200 3.3824667930603027\n",
      "Epoch 1300 3.251361608505249\n",
      "Epoch 1400 3.1580464839935303\n",
      "Epoch 1500 3.091630458831787\n",
      "Epoch 1600 3.0443613529205322\n",
      "Epoch 1700 3.01071834564209\n",
      "Epoch 1800 2.98677134513855\n",
      "Epoch 1900 2.9697272777557373\n",
      "Epoch 2000 2.9575960636138916\n",
      "Epoch 2100 2.9489617347717285\n",
      "Epoch 2200 2.9428184032440186\n",
      "Epoch 2300 2.938443899154663\n",
      "Epoch 2400 2.9353315830230713\n",
      "Epoch 2500 2.9331159591674805\n",
      "Epoch 2600 2.9315383434295654\n",
      "Epoch 2700 2.9304163455963135\n",
      "Epoch 2800 2.929619789123535\n",
      "Epoch 2900 2.9290504455566406\n",
      "Epoch 3000 2.9286458492279053\n",
      "Epoch 3100 2.928356409072876\n",
      "Epoch 3200 2.9281516075134277\n",
      "Epoch 3300 2.9280073642730713\n",
      "Epoch 3400 2.9279019832611084\n",
      "Epoch 3500 2.9278275966644287\n",
      "Epoch 3600 2.9277749061584473\n",
      "Epoch 3700 2.9277396202087402\n",
      "Epoch 3800 2.927711248397827\n",
      "Epoch 3900 2.927692174911499\n",
      "Epoch 4000 2.927680253982544\n",
      "Epoch 4100 2.9276695251464844\n",
      "Epoch 4200 2.9276633262634277\n",
      "Epoch 4300 2.927659511566162\n",
      "Epoch 4400 2.927654981613159\n",
      "Epoch 4500 2.92765212059021\n",
      "Epoch 4600 2.9276511669158936\n",
      "Epoch 4700 2.9276490211486816\n",
      "Epoch 4800 2.9276463985443115\n",
      "Epoch 4900 2.9276480674743652\n",
      "Epoch 5000 2.9276466369628906\n"
     ]
    }
   ],
   "source": [
    "epoch = 5000\n",
    "\n",
    "t_un = 0.1* t_u \n",
    "\n",
    "for i in range(epoch+1):\n",
    "    t_p = model(t_un, w, b)\n",
    "    loss = loss_f(t_p, t_c)\n",
    "    w, b = gradient(0.01, t_p, t_c, t_un, w , b)\n",
    "    if i%100 == 0:\n",
    "        print(\"Epoch\", i, loss.item())\n"
   ]
  },
  {
   "cell_type": "code",
   "execution_count": 327,
   "metadata": {},
   "outputs": [
    {
     "name": "stdout",
     "output_type": "stream",
     "text": [
      "w: tensor(5.3671) \n",
      "b: tensor(-17.3012)\n"
     ]
    }
   ],
   "source": [
    "print(\"w:\", w, \"\\nb:\", b)"
   ]
  },
  {
   "cell_type": "code",
   "execution_count": 328,
   "metadata": {},
   "outputs": [
    {
     "data": {
      "text/plain": [
       "[<matplotlib.lines.Line2D at 0x24859bea350>]"
      ]
     },
     "execution_count": 328,
     "metadata": {},
     "output_type": "execute_result"
    },
    {
     "data": {
      "image/png": "[encoded data removed]",
      "text/plain": [
       "<Figure size 640x480 with 1 Axes>"
      ]
     },
     "metadata": {},
     "output_type": "display_data"
    }
   ],
   "source": [
    "plt.scatter(t_u, t_c)\n",
    "\n",
    "y_axis = model(t_un, w, b )\n",
    "\n",
    "plt.plot(t_u, y_axis.detach(), color=\"r\") # detach() function \"requires_grad=True\" yu tensorden kaldırır."
   ]
  },
  {
   "cell_type": "code",
   "execution_count": 329,
   "metadata": {},
   "outputs": [],
   "source": [
    "# -----------------APPLYING AUTOGRAD --------------------\n",
    "\n",
    "params = torch.tensor([1.0, 0.0], requires_grad=True)"
   ]
  },
  {
   "cell_type": "code",
   "execution_count": 330,
   "metadata": {},
   "outputs": [
    {
     "name": "stdout",
     "output_type": "stream",
     "text": [
      "Epoch 0 80.36434173583984\n",
      "Epoch 500 7.843369007110596\n",
      "Epoch 1000 3.8254828453063965\n",
      "Epoch 1500 3.091630458831787\n",
      "Epoch 2000 2.9575960636138916\n",
      "Epoch 2500 2.9331159591674805\n",
      "Epoch 3000 2.9286458492279053\n",
      "Epoch 3500 2.9278290271759033\n",
      "Epoch 4000 2.9276793003082275\n",
      "Epoch 4500 2.927651882171631\n",
      "Epoch 5000 2.9276480674743652\n"
     ]
    }
   ],
   "source": [
    "epoch = 5000\n",
    "\n",
    "for i in range(epoch+1):\n",
    "    if params.grad is not None:\n",
    "        # türevi alınacak değişkenin başlangıçta params.grad değeri None olduğundan onu sıfır yapıyoruz.\n",
    "        params.grad.zero_()\n",
    "\n",
    "    loss = loss_f(model(t_un, *params), t_c)\n",
    "    loss.backward()\n",
    "\n",
    "    with torch.no_grad():\n",
    "        params -= 0.01 * params.grad\n",
    "    if i%500 == 0:\n",
    "        print(\"Epoch\", i, loss.item())"
   ]
  },
  {
   "cell_type": "code",
   "execution_count": 331,
   "metadata": {},
   "outputs": [
    {
     "data": {
      "text/plain": [
       "tensor([  5.3671, -17.3012], requires_grad=True)"
      ]
     },
     "execution_count": 331,
     "metadata": {},
     "output_type": "execute_result"
    }
   ],
   "source": [
    "params"
   ]
  },
  {
   "cell_type": "code",
   "execution_count": 332,
   "metadata": {},
   "outputs": [
    {
     "name": "stdout",
     "output_type": "stream",
     "text": [
      "Epoch 500 2.962301731109619\n",
      "Epoch 1000 2.9276468753814697\n",
      "Epoch 1500 2.927645206451416\n",
      "Epoch 2000 2.927645683288574\n"
     ]
    }
   ],
   "source": [
    "# ----------------- Different OPTIMIZERS ----------------\n",
    "\n",
    "epoch = 2000\n",
    "\n",
    "params = torch.tensor([1.0, 0.0], requires_grad=True)\n",
    "optimizer = torch.optim.Adam([params], lr=0.1)\n",
    "\n",
    "for i in range(1, epoch+1):\n",
    "\n",
    "    loss = loss_f(model(t_un, *params), t_c)\n",
    "    \n",
    "    optimizer.zero_grad()\n",
    "    loss.backward()\n",
    "    optimizer.step()\n",
    "\n",
    "    if i%500 == 0:\n",
    "        print(\"Epoch\", i, loss.item())"
   ]
  },
  {
   "cell_type": "code",
   "execution_count": 333,
   "metadata": {},
   "outputs": [
    {
     "data": {
      "text/plain": [
       "tensor([  5.3677, -17.3048], requires_grad=True)"
      ]
     },
     "execution_count": 333,
     "metadata": {},
     "output_type": "execute_result"
    }
   ],
   "source": [
    "params"
   ]
  },
  {
   "cell_type": "code",
   "execution_count": 334,
   "metadata": {},
   "outputs": [
    {
     "data": {
      "text/plain": [
       "(tensor([ 8,  3, 10,  9,  4,  6,  7,  2,  5]), tensor([0, 1]))"
      ]
     },
     "execution_count": 334,
     "metadata": {},
     "output_type": "execute_result"
    }
   ],
   "source": [
    "# --------- Splitting trainig set and validation set in pytorch using torch.randperm\n",
    "\n",
    "n_samples = t_u.shape[0]\n",
    "n_val = int(0.2 * n_samples)\n",
    "\n",
    "shuffled_indices = torch.randperm(n_samples)\n",
    "\n",
    "train_indices = shuffled_indices[:-n_val]\n",
    "val_indices = shuffled_indices[-n_val:]\n",
    "\n",
    "train_indices, val_indices"
   ]
  },
  {
   "cell_type": "code",
   "execution_count": 335,
   "metadata": {},
   "outputs": [],
   "source": [
    "train_t_u = t_u[train_indices]\n",
    "train_t_c = t_c[train_indices]\n",
    "\n",
    "val_t_u = t_u[val_indices]\n",
    "val_t_c = t_c[val_indices]\n",
    "\n",
    "train_t_un = 0.1 * train_t_u # for like normalizing the input \n",
    "val_t_un = 0.1 * val_t_u"
   ]
  },
  {
   "cell_type": "code",
   "execution_count": 336,
   "metadata": {},
   "outputs": [
    {
     "name": "stdout",
     "output_type": "stream",
     "text": [
      "Epoch 1 ----> train_loss: 89.317192  and  val_loss: 40.076500\n",
      "Epoch 2 ----> train_loss: 37.020512  and  val_loss: 25.680187\n",
      "Epoch 3 ----> train_loss: 30.137739  and  val_loss: 29.044710\n",
      "Epoch 500 ----> train_loss: 7.632429  and  val_loss: 9.656914\n",
      "Epoch 1000 ----> train_loss: 3.917658  and  val_loss: 4.302538\n",
      "Epoch 1500 ----> train_loss: 3.283683  and  val_loss: 2.842324\n",
      "Epoch 2000 ----> train_loss: 3.175485  and  val_loss: 2.367376\n",
      "Epoch 2500 ----> train_loss: 3.157022  and  val_loss: 2.193076\n",
      "Epoch 3000 ----> train_loss: 3.153872  and  val_loss: 2.124806\n"
     ]
    }
   ],
   "source": [
    "epoch = 3000\n",
    "\n",
    "params = torch.tensor([1.0, 0.0], requires_grad=True)\n",
    "optimizer = torch.optim.SGD([params], lr=0.01)\n",
    "\n",
    "for i in range(1, epoch+1):\n",
    "\n",
    "    train_t_p = model(train_t_un , *params)\n",
    "    train_loss = loss_f(train_t_p, train_t_c)\n",
    "    \n",
    "    val_t_p = model(val_t_un, *params)\n",
    "    val_loss = loss_f(val_t_p, val_t_c)\n",
    "\n",
    "    optimizer.zero_grad()\n",
    "    train_loss.backward()\n",
    "    optimizer.step()\n",
    "\n",
    "    if i <= 3 or i%500 == 0:\n",
    "        print(\"Epoch\", i, \"----> train_loss: {:.6f}  and  val_loss: {:.6f}\".format(train_loss.item(),val_loss.item()))"
   ]
  },
  {
   "attachments": {},
   "cell_type": "markdown",
   "metadata": {},
   "source": [
    "However optimized, building the autograd graph comes with additional costs that we\n",
    "could totally forgo during the validation pass, especially when the model has millions\n",
    "of parameters.\n",
    "\n",
    "In order to address this, PyTorch allows us to switch off autograd when we don’t\n",
    "need it, using the torch.no_grad context manager.12 We won’t see any meaningful\n",
    "advantage in terms of speed or memory consumption on our small problem. However,\n",
    "for larger models, the differences can add up. We can make sure this works by\n",
    "checking the value of the requires_grad attribute on the val_loss tensor:"
   ]
  },
  {
   "cell_type": "code",
   "execution_count": 337,
   "metadata": {},
   "outputs": [
    {
     "name": "stdout",
     "output_type": "stream",
     "text": [
      "Epoch 1 ----> train_loss: 89.317192  and  val_loss: 40.076500\n",
      "Epoch 2 ----> train_loss: 37.020512  and  val_loss: 25.680187\n",
      "Epoch 3 ----> train_loss: 30.137739  and  val_loss: 29.044710\n",
      "Epoch 500 ----> train_loss: 7.632429  and  val_loss: 9.656914\n",
      "Epoch 1000 ----> train_loss: 3.917658  and  val_loss: 4.302538\n",
      "Epoch 1500 ----> train_loss: 3.283683  and  val_loss: 2.842324\n",
      "Epoch 2000 ----> train_loss: 3.175485  and  val_loss: 2.367376\n",
      "Epoch 2500 ----> train_loss: 3.157022  and  val_loss: 2.193076\n",
      "Epoch 3000 ----> train_loss: 3.153872  and  val_loss: 2.124806\n"
     ]
    }
   ],
   "source": [
    "epoch = 3000\n",
    "\n",
    "params = torch.tensor([1.0, 0.0], requires_grad=True)\n",
    "optimizer = torch.optim.SGD([params], lr=0.01)\n",
    "\n",
    "for i in range(1, epoch+1):\n",
    "\n",
    "    train_t_p = model(train_t_un , *params)\n",
    "    train_loss = loss_f(train_t_p, train_t_c)\n",
    "    \n",
    "    with torch.no_grad():\n",
    "        val_t_p = model(val_t_un, *params)\n",
    "        val_loss = loss_f(val_t_p, val_t_c)\n",
    "        assert val_loss.requires_grad==False  # Checks that our output requires_grad args are forced to False inside this block\n",
    "\n",
    "    optimizer.zero_grad()\n",
    "    train_loss.backward()\n",
    "    optimizer.step()\n",
    "\n",
    "    if i <= 3 or i%500 == 0:\n",
    "        print(\"Epoch\", i, \"----> train_loss: {:.6f}  and  val_loss: {:.6f}\".format(train_loss.item(),val_loss.item()))"
   ]
  },
  {
   "cell_type": "code",
   "execution_count": null,
   "metadata": {},
   "outputs": [],
   "source": []
  }
 ],
 "metadata": {
  "kernelspec": {
   "display_name": ".venv",
   "language": "python",
   "name": "python3"
  },
  "language_info": {
   "codemirror_mode": {
    "name": "ipython",
    "version": 3
   },
   "file_extension": ".py",
   "mimetype": "text/x-python",
   "name": "python",
   "nbconvert_exporter": "python",
   "pygments_lexer": "ipython3",
   "version": "3.10.5"
  },
  "orig_nbformat": 4,
  "vscode": {
   "interpreter": {
    "hash": "cc06ef6f8e8f3391e5a78f9b7b4b7541c4836b62b0823a3331fff32068ff493b"
   }
  }
 },
 "nbformat": 4,
 "nbformat_minor": 2
}
