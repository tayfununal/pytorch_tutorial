{
 "cells": [
  {
   "cell_type": "code",
   "execution_count": 84,
   "metadata": {},
   "outputs": [],
   "source": [
    "import numpy as np\n",
    "import matplotlib.pyplot as plt\n",
    "import torch"
   ]
  },
  {
   "attachments": {},
   "cell_type": "markdown",
   "metadata": {},
   "source": [
    "Predictin tempretures:\n",
    "\\begin{align} \n",
    "    t_c &: celsius \\\\\n",
    "    t_u &: unknown units\n",
    "\\end{align}"
   ]
  },
  {
   "cell_type": "code",
   "execution_count": 85,
   "metadata": {},
   "outputs": [],
   "source": [
    "# Data\n",
    "t_c = [0.5, 14.0, 15.0, 28.0, 11.0, 8.0, 3.0, -4.0, 6.0, 13.0, 21.0]\n",
    "t_u = [35.7, 55.9, 58.2, 81.9, 56.3, 48.9, 33.9, 21.8, 48.4, 60.4, 68.4]"
   ]
  },
  {
   "cell_type": "code",
   "execution_count": 86,
   "metadata": {},
   "outputs": [],
   "source": [
    "t_c = torch.tensor(t_c)\n",
    "t_u = torch.tensor(t_u)"
   ]
  },
  {
   "cell_type": "code",
   "execution_count": 87,
   "metadata": {},
   "outputs": [],
   "source": [
    "def model(t_u, w, b):\n",
    "    return w * t_u + b\n",
    "\n",
    "def loss_f(t_p, t_c):\n",
    "    squared_difference = (t_p - t_c)**2\n",
    "    return squared_difference.mean()\n",
    "\n",
    "def gradient(alpha, t_p, t_c, t_u, w, b):\n",
    "    dw = 2 * ((t_p - t_c) * t_u).mean()\n",
    "    db = 2 * (t_p - t_c).mean()\n",
    "    \n",
    "    w = w - alpha * dw\n",
    "    b = b - alpha * db\n",
    "    return w, b\n"
   ]
  },
  {
   "cell_type": "code",
   "execution_count": 88,
   "metadata": {},
   "outputs": [],
   "source": [
    "w = torch.ones(())\n",
    "b = torch.zeros(())"
   ]
  },
  {
   "cell_type": "code",
   "execution_count": 125,
   "metadata": {},
   "outputs": [
    {
     "name": "stdout",
     "output_type": "stream",
     "text": [
      "Epoch 1 29.01170539855957\n",
      "Epoch 2 29.01078987121582\n",
      "Epoch 3 29.009876251220703\n",
      "Epoch 4 29.00896453857422\n",
      "Epoch 5 29.00804901123047\n",
      "Epoch 6 29.007139205932617\n",
      "Epoch 7 29.0062198638916\n",
      "Epoch 8 29.005311965942383\n",
      "Epoch 9 29.00439453125\n",
      "Epoch 10 29.00348663330078\n",
      "Epoch 11 29.0025691986084\n",
      "Epoch 12 29.00165557861328\n",
      "Epoch 13 29.00074577331543\n",
      "Epoch 14 28.999834060668945\n",
      "Epoch 15 28.998920440673828\n",
      "Epoch 16 28.998008728027344\n",
      "Epoch 17 28.997093200683594\n",
      "Epoch 18 28.996179580688477\n",
      "Epoch 19 28.995264053344727\n",
      "Epoch 20 28.994352340698242\n",
      "Epoch 21 28.993440628051758\n",
      "Epoch 22 28.992523193359375\n",
      "Epoch 23 28.991615295410156\n",
      "Epoch 24 28.990697860717773\n",
      "Epoch 25 28.989789962768555\n",
      "Epoch 26 28.988874435424805\n",
      "Epoch 27 28.987958908081055\n",
      "Epoch 28 28.9870548248291\n",
      "Epoch 29 28.98613929748535\n",
      "Epoch 30 28.9852237701416\n",
      "Epoch 31 28.98431396484375\n",
      "Epoch 32 28.9833984375\n",
      "Epoch 33 28.982484817504883\n",
      "Epoch 34 28.98157501220703\n",
      "Epoch 35 28.980663299560547\n",
      "Epoch 36 28.979753494262695\n",
      "Epoch 37 28.978837966918945\n",
      "Epoch 38 28.977928161621094\n",
      "Epoch 39 28.977012634277344\n",
      "Epoch 40 28.976102828979492\n",
      "Epoch 41 28.975187301635742\n",
      "Epoch 42 28.974275588989258\n",
      "Epoch 43 28.973369598388672\n",
      "Epoch 44 28.972450256347656\n",
      "Epoch 45 28.971538543701172\n",
      "Epoch 46 28.97062873840332\n",
      "Epoch 47 28.96971893310547\n",
      "Epoch 48 28.968799591064453\n",
      "Epoch 49 28.9678955078125\n",
      "Epoch 50 28.96697998046875\n",
      "Epoch 51 28.966066360473633\n",
      "Epoch 52 28.965150833129883\n",
      "Epoch 53 28.964244842529297\n",
      "Epoch 54 28.963335037231445\n",
      "Epoch 55 28.962419509887695\n",
      "Epoch 56 28.961509704589844\n",
      "Epoch 57 28.960596084594727\n",
      "Epoch 58 28.959686279296875\n",
      "Epoch 59 28.958772659301758\n",
      "Epoch 60 28.957862854003906\n",
      "Epoch 61 28.956951141357422\n",
      "Epoch 62 28.956037521362305\n",
      "Epoch 63 28.955127716064453\n",
      "Epoch 64 28.95421600341797\n",
      "Epoch 65 28.95330810546875\n",
      "Epoch 66 28.952392578125\n",
      "Epoch 67 28.95148277282715\n",
      "Epoch 68 28.950572967529297\n",
      "Epoch 69 28.949657440185547\n",
      "Epoch 70 28.94874382019043\n",
      "Epoch 71 28.947839736938477\n",
      "Epoch 72 28.946922302246094\n",
      "Epoch 73 28.946012496948242\n",
      "Epoch 74 28.945100784301758\n",
      "Epoch 75 28.944194793701172\n",
      "Epoch 76 28.943279266357422\n",
      "Epoch 77 28.94236946105957\n",
      "Epoch 78 28.94145965576172\n",
      "Epoch 79 28.9405460357666\n",
      "Epoch 80 28.939638137817383\n",
      "Epoch 81 28.9387264251709\n",
      "Epoch 82 28.937816619873047\n",
      "Epoch 83 28.93689727783203\n",
      "Epoch 84 28.935993194580078\n",
      "Epoch 85 28.935081481933594\n",
      "Epoch 86 28.934173583984375\n",
      "Epoch 87 28.933259963989258\n",
      "Epoch 88 28.932348251342773\n",
      "Epoch 89 28.93144416809082\n",
      "Epoch 90 28.930524826049805\n",
      "Epoch 91 28.929615020751953\n",
      "Epoch 92 28.9287052154541\n",
      "Epoch 93 28.92779541015625\n",
      "Epoch 94 28.926881790161133\n",
      "Epoch 95 28.925975799560547\n",
      "Epoch 96 28.925060272216797\n",
      "Epoch 97 28.924156188964844\n",
      "Epoch 98 28.923242568969727\n",
      "Epoch 99 28.922332763671875\n",
      "Epoch 100 28.921424865722656\n"
     ]
    }
   ],
   "source": [
    "epoch = 100\n",
    "\n",
    "for i in range(epoch):\n",
    "    t_p = model(t_u, w, b)\n",
    "    loss = loss_f(t_p, t_c)\n",
    "    w, b = gradient(0.0001, t_p, t_c, t_u, w , b)\n",
    "    print(\"Epoch\", i+1, loss.item())\n"
   ]
  },
  {
   "cell_type": "code",
   "execution_count": null,
   "metadata": {},
   "outputs": [],
   "source": []
  }
 ],
 "metadata": {
  "kernelspec": {
   "display_name": ".venv",
   "language": "python",
   "name": "python3"
  },
  "language_info": {
   "codemirror_mode": {
    "name": "ipython",
    "version": 3
   },
   "file_extension": ".py",
   "mimetype": "text/x-python",
   "name": "python",
   "nbconvert_exporter": "python",
   "pygments_lexer": "ipython3",
   "version": "3.10.5"
  },
  "orig_nbformat": 4,
  "vscode": {
   "interpreter": {
    "hash": "cc06ef6f8e8f3391e5a78f9b7b4b7541c4836b62b0823a3331fff32068ff493b"
   }
  }
 },
 "nbformat": 4,
 "nbformat_minor": 2
}
